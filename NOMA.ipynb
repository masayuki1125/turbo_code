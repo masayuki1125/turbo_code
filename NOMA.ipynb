{
 "cells": [
  {
   "cell_type": "code",
   "execution_count": 48,
   "metadata": {},
   "outputs": [],
   "source": [
    "import numpy as np\n",
    "from turbo_code import turbo_code\n",
    "from AWGN import _AWGN"
   ]
  },
  {
   "cell_type": "code",
   "execution_count": 49,
   "metadata": {},
   "outputs": [],
   "source": [
    "#最適なβの値の設計方法\n",
    "#①N1=N2にし、固定する\n",
    "#②Strong Userの受信SNRを決め、固定する\n",
    "#③シャノン限界を基準にして、Strong UserのRateが0.8になるようにβ1、β2を設計\n",
    "#④β=β1/β2とし、Weak Userの受信SNRを変化させて、全体のsystemのBERを測定する"
   ]
  },
  {
   "cell_type": "code",
   "execution_count": 50,
   "metadata": {},
   "outputs": [],
   "source": [
    "class NOMA():\n",
    "  def __init__(self,K):\n",
    "    self.K=512\n",
    "    self.N=K*2\n",
    "    #EbNodB1>EbNodB2\n",
    "    #User1=Strong User(Fixed)\n",
    "    #User2=Weak User\n",
    "    self.EbNodB1=10\n",
    "    \n",
    "    #Strong Userの受信SNから、βを決定する\n",
    "    self.beta=0.1\n",
    "    \n",
    "    #self.EbNodB2 change\n",
    "    \n",
    "    EbNo1 = 10 ** (self.EbNodB1 / 10)\n",
    "    self.No1=1/EbNo1\n",
    "    \n",
    "    self.ch=_AWGN()\n",
    "    self.cd1=turbo_code(self.K//2)\n",
    "    self.cd2=turbo_code(self.K//2)\n",
    "    \n",
    "    self.filename=\"NOMA_turbo_{}_{}\".format(self.N,self.K)\n",
    "    \n",
    "  def NOMA_encode(self):\n",
    "    info1,cwd1=self.cd1.turbo_encode()\n",
    "    info2,cwd2=self.cd2.turbo_encode()\n",
    "    return info1,info2,cwd1,cwd2"
   ]
  },
  {
   "cell_type": "code",
   "execution_count": 51,
   "metadata": {},
   "outputs": [
    {
     "data": {
      "text/plain": [
       "'\\nclass NOMA(NOMA):\\n  def make_beta(EsNodB):\\n    EsNo = 10 ** (EsNodB / 10)\\n    No=1/EsNo\\n    #Strong UserのCapacityを求める\\n    x, y = sym.symbols(\"x y\")\\n    st_usr=sym.log(1+x/No,2)\\n'"
      ]
     },
     "execution_count": 51,
     "metadata": {},
     "output_type": "execute_result"
    }
   ],
   "source": [
    "'''\n",
    "class NOMA(NOMA):\n",
    "  def make_beta(EsNodB):\n",
    "    EsNo = 10 ** (EsNodB / 10)\n",
    "    No=1/EsNo\n",
    "    #Strong UserのCapacityを求める\n",
    "    x, y = sym.symbols(\"x y\")\n",
    "    st_usr=sym.log(1+x/No,2)\n",
    "'''"
   ]
  },
  {
   "cell_type": "code",
   "execution_count": 52,
   "metadata": {},
   "outputs": [],
   "source": [
    "class NOMA(NOMA):\n",
    "  def channel(self,cwd1,cwd2,beta):\n",
    "    \n",
    "    const1=self.ch.generate_QAM(cwd1)\n",
    "    const2=self.ch.generate_QAM(cwd2)\n",
    "    res_const=beta*const1+const2\n",
    "    \n",
    "    #print(len(res_const))\n",
    "    \n",
    "    return res_const\n",
    "  \n",
    "  def decode1(self,res_const,No1):\n",
    "    '''\n",
    "    decode using SIC\n",
    "    input generate_constellation,Noise variance\n",
    "    output estimated information\n",
    "    '''\n",
    "    \n",
    "    EST_info2=self.decode2(res_const,self.No1+self.beta)\n",
    "    \n",
    "    #re encode polar code\n",
    "    #print(len(EST_info2))\n",
    "    EST_cwd2=self.cd2.encoding(EST_info2.astype(np.int))\n",
    "    #print(len(EST_cwd2))\n",
    "    \n",
    "    EST_const2=self.ch.generate_QAM(EST_cwd2)\n",
    "\n",
    "    RX_const=res_const-EST_const2\n",
    "\n",
    "    Lc=-1*self.ch.demodulate(RX_const,self.No1/self.beta)\n",
    "    EST_cwd1=self.cd1.turbo_decode(Lc)\n",
    "    \n",
    "    return EST_cwd1\n",
    "  \n",
    "  def decode2(self,res_const,No2):\n",
    "    RX_const=self.ch.add_AWGN(res_const,No2+self.beta)\n",
    "    Lc=-1*self.ch.demodulate(RX_const,No2+self.beta)\n",
    "    EST_cwd2=self.cd2.turbo_decode(Lc)\n",
    "    \n",
    "    return EST_cwd2\n",
    "  \n",
    "  def NOMA_decode(self,res_const,No1,No2):\n",
    "    EST_cwd1=self.decode1(res_const,No1)\n",
    "    EST_cwd2=self.decode2(res_const,No2)\n",
    "    \n",
    "    return EST_cwd1,EST_cwd2\n",
    "  \n",
    "  def main_func(self,EbNodB2):\n",
    "    #make No2\n",
    "    EbNo2 = 10 ** (EbNodB2 / 10)\n",
    "    No2=1/EbNo2\n",
    "    \n",
    "    info1,info2,cwd1,cwd2=self.NOMA_encode()\n",
    "    res_const=self.channel(cwd1,cwd2,self.beta)\n",
    "    EST_info1,EST_info2=self.NOMA_decode(res_const,self.No1,No2)\n",
    "    \n",
    "    #info=np.concatenate([info1,info2])\n",
    "    info=np.concatenate([info1,info2])\n",
    "    EST_info=np.concatenate([EST_info1,EST_info2])\n",
    "    \n",
    "    return info,EST_info\n",
    "    "
   ]
  },
  {
   "cell_type": "code",
   "execution_count": 53,
   "metadata": {},
   "outputs": [
    {
     "name": "stdout",
     "output_type": "stream",
     "text": [
      "R\n",
      "0.5\n",
      "11\n",
      " itr 1R\n",
      "0.5\n",
      "11\n",
      " itr 3780\n",
      "[1 1 0 0 0 0 0 1 0 1 0 0 0 1 1 1 0 0 0 1 1 0 1 0 0 1 0 1 1 1 1 0 0 1 1 1 0\n",
      " 0 1 0 1 0 1 1 0 1 0 1 0 1 1 1 1 1 0 0 1 0 0 1 0 0 1 0 0 0 1 0 0 1 0 1 0 0\n",
      " 1 1 1 1 0 1 0 0 1 0 0 1 0 1 0 1 1 1 1 0 1 0 0 0 0 0 1 0 0 0 0 0 0 1 0 1 0\n",
      " 0 1 1 1 1 1 0 0 1 1 0 1 0 0 1 0 0 0 1 0 1 1 0 1 0 0 1 0 1 1 0 0 1 0 1 1 0\n",
      " 1 0 0 0 1 0 0 0 0 1 0 1 1 1 0 1 0 0 0 0 0 0 0 0 1 1 1 1 0 1 0 0 0 0 1 1 0\n",
      " 0 0 0 0 0 1 0 1 1 1 0 0 1 1 1 0 0 0 0 0 0 0 0 1 0 1 1 0 0 1 1 1 0 1 0 0 1\n",
      " 0 1 0 0 0 0 0 0 0 0 0 1 0 1 1 1 1 1 0 1 1 0 1 1 0 0 1 1 0 0 1 0 1 0 1 0 1\n",
      " 1 0 1 1 1 0 0 1 0 0 0 1 1 0 0 1 0 1 1 0 0 1 0 1 1 1 0 0 1 0 1 1 0 1 1 1 1\n",
      " 0 1 0 0 1 0 0 0 1 1 0 0 1 1 1 0 0 1 1 0 1 0 0 1 1 0 1 1 0 1 0 1 0 1 0 0 1\n",
      " 1 1 0 0 1 0 1 0 1 0 0 1 0 1 1 1 1 0 1 1 0 1 1 0 0 1 1 0 0 1 0 1 0 1 0 1 0\n",
      " 0 0 1 1 1 1 1 0 0 0 1 1 1 1 0 1 1 1 1 1 0 0 1 1 1 0 0 0 0 0 1 0 1 1 0 1 0\n",
      " 0 0 1 1 0 1 0 1 0 1 0 0 1 1 1 1 0 0 0 0 1 1 1 1 1 1 1 1 0 0 1 1 1 1 0 0 1\n",
      " 0 1 1 1 0 1 0 1 1 0 1 1 1 0 1 0 1 0 0 1 1 1 0 0 1 1 1 0 1 0 1 1 1 0 0 1 0\n",
      " 1 1 0 1 0 0 0 0 0 1 0 0 0 0 1 1 0 0 0 1 1 1 0 1 0 0 0 0 1 1 0]\n",
      "0\n"
     ]
    }
   ],
   "source": [
    "if __name__==\"__main__\":\n",
    "  K=512\n",
    "  ma=NOMA(K)\n",
    "  a,b=ma.main_func(1)\n",
    "  print(a)\n",
    "  print(np.sum(a!=b))"
   ]
  }
 ],
 "metadata": {
  "interpreter": {
   "hash": "2d10f77717f7158c16ff87710fa1e3d60d6501755bea59c4450e96f9e5d3338d"
  },
  "kernelspec": {
   "display_name": "Python 3.7.10 64-bit ('3.7.10': pyenv)",
   "language": "python",
   "name": "python3"
  },
  "language_info": {
   "codemirror_mode": {
    "name": "ipython",
    "version": 3
   },
   "file_extension": ".py",
   "mimetype": "text/x-python",
   "name": "python",
   "nbconvert_exporter": "python",
   "pygments_lexer": "ipython3",
   "version": "3.7.10"
  },
  "orig_nbformat": 4
 },
 "nbformat": 4,
 "nbformat_minor": 2
}
